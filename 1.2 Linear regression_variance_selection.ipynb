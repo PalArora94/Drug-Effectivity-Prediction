{
 "cells": [
  {
   "cell_type": "markdown",
   "id": "616ff0ac-4d66-419d-b7d2-c54c20e931d8",
   "metadata": {
    "tags": []
   },
   "source": [
    "# Linear regression model with variance based feature selection"
   ]
  },
  {
   "cell_type": "code",
   "execution_count": 8,
   "id": "3dfb751e-73c4-404a-8201-8a2a261bbb9a",
   "metadata": {},
   "outputs": [],
   "source": [
    "# import necessary packages\n",
    "\n",
    "# Plot the figures inline, necessary only for Jupyter notebook\n",
    "%matplotlib inline \n",
    "\n",
    "import os # miscelleaneous operating system interface\n",
    "import numpy as np  # import numpy\n",
    "import pandas as pd # import pandas\n",
    "import matplotlib.pyplot as plt \n",
    "import seaborn as sns # import seaborn for data visualization\n",
    "\n",
    "from sklearn.linear_model import LinearRegression \n",
    "from sklearn.metrics import root_mean_squared_error as RMSE # calculate RMSE\n",
    "from sklearn.pipeline import Pipeline # may need it later for feature engineering\n",
    "from sklearn.model_selection import train_test_split # splitting data into training and testing set"
   ]
  },
  {
   "cell_type": "code",
   "execution_count": 9,
   "id": "701c0ce7-f724-4d44-b92f-3912a5edd595",
   "metadata": {},
   "outputs": [
    {
     "name": "stdout",
     "output_type": "stream",
     "text": [
      "(805, 14)\n",
      "Shape of data frame (805, 17419)\n"
     ]
    }
   ],
   "source": [
    "# import the data set for drugs\n",
    "\n",
    "df_drug=pd.read_csv('GDSC2_label_14drugs.csv') # load the data set for drugs (limited to 14 drugs)\n",
    "df_drug.set_index('Unnamed: 0', inplace=True)\n",
    "\n",
    "print(df_drug.shape) # shape for drug data\n",
    "\n",
    "# Result: 805 tumor cells (cell lines) and 14 drugs\n",
    "# df_drug.head(5) # print the first 5 instances to have a look\n",
    "\n",
    "# We only focus on the 3 drugs with largest variances in their efficacies among different drugs\n",
    "drug_sort=df_drug.std().sort_values(ascending = False).iloc[0:3]\n",
    "\n",
    "# import the data set for tumor cells (cell lines) and genes\n",
    "\n",
    "df_tumor=pd.read_csv('GDSC2_expression14.csv') # load the data set for tumors and cell lines\n",
    "df_tumor.set_index('Unnamed: 0', inplace=True)\n",
    "gene=list(df_tumor.columns)\n",
    "\n",
    "# print('Number of genes:', len(gene))\n",
    "# print('First gene: ',gene[0])\n",
    "\n",
    "print('Shape of data frame', df_tumor.shape) # shape for tumor data\n",
    "# df_tumor.iloc[0:5, 0:10] # print the first 5 instances to have a look, only print the first 10 columns\n",
    "\n",
    "# Result: 805 tumor cells (instances) and 17419 genes (features)"
   ]
  },
  {
   "cell_type": "code",
   "execution_count": 10,
   "id": "42dea26f-df9c-400a-bb2a-37aaff266633",
   "metadata": {},
   "outputs": [],
   "source": [
    "# The 3 drugs with the largest variances among all 805 tumors\n",
    "# See EDA and overfitting notebook\n",
    "\n",
    "drug1=drug_sort.index[0] # 'Docetaxel'\n",
    "drug2=drug_sort.index[1] # 'Trametinib'\n",
    "drug3=drug_sort.index[2] # 'Entinostat'\n",
    "\n",
    "# Merge the two data set together WITHOUT any selection of features\n",
    "# We do not need to save too many decimal places, keep 2 decimal places is fine\n",
    "# The last column becomes the drug efficacy\n",
    "\n",
    "df_1=pd.concat([df_tumor, df_drug[drug1].round(2)], axis=1) # axis=1 because we join the columns, not rows\n",
    "df_2=pd.concat([df_tumor, df_drug[drug2].round(2)], axis=1) \n",
    "df_3=pd.concat([df_tumor, df_drug[drug3].round(2)], axis=1) \n",
    "\n",
    "# print(df_1.shape)\n",
    "# df_1.head(5)"
   ]
  },
  {
   "cell_type": "markdown",
   "id": "be01a891-8e1d-471a-8443-f7bf2c4bb844",
   "metadata": {},
   "source": [
    "# Linear regression model with 100 most variate genes"
   ]
  },
  {
   "cell_type": "code",
   "execution_count": 11,
   "id": "36c399b2-9e43-479d-8909-0754da2a56af",
   "metadata": {},
   "outputs": [
    {
     "data": {
      "text/plain": [
       "Index(['RPS4Y1', 'HLA-DRA', 'ITM2A', 'MIR205HG', 'TACSTD2', 'SPP1', 'TSPAN8',\n",
       "       'LAPTM5', 'TFF1', 'GMFG', 'COL1A2', 'KRT6A', 'LUM', 'S100A9', 'BEX1',\n",
       "       'SRGN', 'CD53', 'IGJ', 'POU2AF1', 'S100A14', 'TFF3', 'S100P', 'GTSF1',\n",
       "       'AKR1B10P1', 'COL3A1', 'C8orf4', 'UCA1', 'INSM1', 'GPX2', 'LCN2',\n",
       "       'CEACAM5', 'MMP7', 'PCP4', 'CD52', 'LYZ', 'AKR1C2', 'FGFBP1', 'GRP',\n",
       "       'PHGR1', 'MMP1', 'SCG2', 'RAB25', 'CXCR4', 'COL6A3', 'KRT5', 'POSTN',\n",
       "       'BCL2A1', 'INHBB', 'CCL2', 'ANXA10'],\n",
       "      dtype='object')"
      ]
     },
     "execution_count": 11,
     "metadata": {},
     "output_type": "execute_result"
    }
   ],
   "source": [
    "# Calculate variance for each gene across the 805 samples\n",
    "# Select the 50 genes with highest variance (after normalization)\n",
    "\n",
    "from sklearn.preprocessing import normalize # normalize the columns for the genes\n",
    "\n",
    "n=50 # number of genes to keep\n",
    "\n",
    "df_tumor_norm=pd.DataFrame(normalize(df_tumor, axis=0)) # result after normalization is a numpy array, we need data frame\n",
    "df_tumor_norm.columns=gene # assign the gene name as column names\n",
    "\n",
    "# calculate the variance for each gene type across 805 samples and sort the results\n",
    "df_tumor_var=pd.DataFrame(df_tumor_norm.var())\n",
    "df_tumor_var.columns=['normed var']\n",
    "\n",
    "# Comments: There are many genes having small variances across different types of tumor cells. \n",
    "# Again, doesn't mean that they have no importance in drug efficacy!\n",
    "\n",
    "# Picking the 100 genes with the largest variances across all tumor types\n",
    "\n",
    "df_var=df_tumor_var.sort_values('normed var',ascending = False).iloc[0:n,:]\n",
    "df_var.index # This list stores the names of that 100 genes\n",
    "# df_var"
   ]
  },
  {
   "cell_type": "code",
   "execution_count": 12,
   "id": "b446df1f-e72e-40d4-ac3e-6ee01353eda7",
   "metadata": {},
   "outputs": [
    {
     "name": "stdout",
     "output_type": "stream",
     "text": [
      "RMSE for the training set for Docetaxel 0.171\n",
      "RMSE for the test set for Docetaxel 0.175\n",
      "sd in efficacy of Docetaxel 0.192\n",
      "\n",
      "\n",
      "RMSE for the training set for Trametinib 0.143\n",
      "RMSE for the test set for Trametinib 0.196\n",
      "sd in efficacy of Trametinib 0.186\n",
      "\n",
      "\n",
      "RMSE for the training set for Entinostat 0.087\n",
      "RMSE for the test set for Entinostat 0.106\n",
      "sd in efficacy of Entinostat 0.105\n"
     ]
    }
   ],
   "source": [
    "# Using the selected genes from variance-based slection\n",
    "# Simple linear regression model on Docetaxel, Trametinib, Entinostat\n",
    "\n",
    "# 20% of the data is used as test set, meaning 161 cell lines are saved for the test set\n",
    "df_train_1, df_test_1 = train_test_split(df_1, shuffle=True, random_state=42, test_size=.2)\n",
    "df_train_2, df_test_2 = train_test_split(df_2, shuffle=True, random_state=42, test_size=.2)\n",
    "df_train_3, df_test_3 = train_test_split(df_3, shuffle=True, random_state=42, test_size=.2)\n",
    "\n",
    "lin_reg_1 = LinearRegression()\n",
    "lin_reg_2 = LinearRegression()\n",
    "lin_reg_3 = LinearRegression()\n",
    "\n",
    "lin_reg_1.fit(df_train_1[df_var.index], df_train_1.iloc[:,-1:])\n",
    "lin_reg_2.fit(df_train_2[df_var.index], df_train_2.iloc[:,-1:])\n",
    "lin_reg_3.fit(df_train_3[df_var.index], df_train_3.iloc[:,-1:])\n",
    "\n",
    "# The resuls: y_0 + y_coeff dot (genes)\n",
    "# y_0, y_coeff = lin_reg.intercept_, lin_reg.coef_\n",
    "\n",
    "# Calculate the RMSE\n",
    "ytrain_1 = lin_reg_1.predict(df_train_1[df_var.index])\n",
    "ytrain_2 = lin_reg_2.predict(df_train_2[df_var.index])\n",
    "ytrain_3 = lin_reg_3.predict(df_train_3[df_var.index])\n",
    "train_lin_rmse_1 = RMSE(df_train_1.iloc[:,-1:], ytrain_1)\n",
    "train_lin_rmse_2 = RMSE(df_train_2.iloc[:,-1:], ytrain_2)\n",
    "train_lin_rmse_3 = RMSE(df_train_3.iloc[:,-1:], ytrain_3)\n",
    "\n",
    "ytest_1 = lin_reg_1.predict(df_test_1[df_var.index])\n",
    "ytest_2 = lin_reg_2.predict(df_test_2[df_var.index])\n",
    "ytest_3 = lin_reg_3.predict(df_test_3[df_var.index])\n",
    "test_lin_rmse_1 = RMSE(df_test_1.iloc[:,-1:], ytest_1)\n",
    "test_lin_rmse_2 = RMSE(df_test_2.iloc[:,-1:], ytest_2)\n",
    "test_lin_rmse_3 = RMSE(df_test_3.iloc[:,-1:], ytest_3)\n",
    "\n",
    "# Take square root for the MSE obtained from Scikit-Learn\n",
    "\n",
    "print (f\"RMSE for the training set for {drug1}\", np.round(train_lin_rmse_1,3))\n",
    "print (f\"RMSE for the test set for {drug1}\", np.round(test_lin_rmse_1,3))\n",
    "print(f\"sd in efficacy of {drug1}\", df_1[drug1].std().round(3))\n",
    "print(\"\\n\")\n",
    "\n",
    "print (f\"RMSE for the training set for {drug2}\", np.round(train_lin_rmse_2,3))\n",
    "print (f\"RMSE for the test set for {drug2}\", np.round(test_lin_rmse_2,3))\n",
    "print(f\"sd in efficacy of {drug2}\", df_2[drug2].std().round(3))\n",
    "print(\"\\n\")\n",
    "\n",
    "print (f\"RMSE for the training set for {drug3}\", np.round(train_lin_rmse_3,3))\n",
    "print (f\"RMSE for the test set for {drug3}\", np.round(test_lin_rmse_3,3))\n",
    "print(f\"sd in efficacy of {drug3}\", df_3[drug3].std().round(3))\n",
    "\n",
    "# The RMSE for training and testing sets are now closer. No overfitting\n",
    "# We still need to see if our model underfits, so compare to sd of drug efficacy \n",
    "\n",
    "# Very close or even larger than the the SD, not a good model..."
   ]
  },
  {
   "cell_type": "code",
   "execution_count": 13,
   "id": "e6455b11-92a5-4e9b-8ebe-8af819a2d4a6",
   "metadata": {},
   "outputs": [
    {
     "data": {
      "image/png": "[encoded data removed]",
      "text/plain": [
       "<Figure size 600x400 with 1 Axes>"
      ]
     },
     "metadata": {},
     "output_type": "display_data"
    }
   ],
   "source": [
    "# Checking assumptions of linear regression satisfied: Residual plot and Homoscedasticity\n",
    "# If the linear model is a good approximation, the residual plot should behave as a gaussian noise\n",
    "\n",
    "# Here, the residual plot is for having 100 features selected from variance based approach\n",
    "residuals_var = df_train_1.iloc[:,-1:] - ytrain_1\n",
    "\n",
    "plt.figure(figsize=(6,4))\n",
    "plt.scatter(ytrain_1, residuals_var)\n",
    "plt.xlabel(f\"predicted efficacy for {drug1}\", fontsize=12)\n",
    "plt.ylabel(\"residuals\", fontsize=12)\n",
    "plt.show()\n",
    "\n",
    "# Clearly, not Gaussian noise. Heteroscedasticity --> Linear regression model is inappropriate. \n",
    "# Also, the RMSE for test set is even bigger than the standard deviation of the data."
   ]
  }
 ],
 "metadata": {
  "kernelspec": {
   "display_name": "Python 3 (ipykernel)",
   "language": "python",
   "name": "python3"
  },
  "language_info": {
   "codemirror_mode": {
    "name": "ipython",
    "version": 3
   },
   "file_extension": ".py",
   "mimetype": "text/x-python",
   "name": "python",
   "nbconvert_exporter": "python",
   "pygments_lexer": "ipython3",
   "version": "3.10.5"
  }
 },
 "nbformat": 4,
 "nbformat_minor": 5
}
